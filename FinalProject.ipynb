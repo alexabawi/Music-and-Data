{
 "cells": [
  {
   "cell_type": "markdown",
   "metadata": {},
   "source": [
    "# TODO: Come up with a title"
   ]
  },
  {
   "cell_type": "markdown",
   "metadata": {},
   "source": [
    "Music has been an integral part of world cultures for thousands of years. Styles and songs have come and gone, but the concept of rating music has been a relatively new concept. Since the late 1950s, Billboard has been tracking the popularity of songs....\n",
    "\n",
    "TODO: Finish this intro!"
   ]
  },
  {
   "cell_type": "code",
   "execution_count": null,
   "metadata": {
    "collapsed": true
   },
   "outputs": [],
   "source": [
    "# Imports for the project\n",
    "\n",
    "%matplotlib inline\n",
    "\n",
    "import pandas as pd\n",
    "import numpy as np\n",
    "import matplotlib.pyplot as plt"
   ]
  },
  {
   "cell_type": "code",
   "execution_count": null,
   "metadata": {
    "collapsed": true
   },
   "outputs": [],
   "source": [
    "# Read in the data frame to start our analysis\n",
    "\n",
    "df1 = pd.read_json('./full_data.json')\n",
    "df2 = pd.read_json('./full_data.json')"
   ]
  },
  {
   "cell_type": "code",
   "execution_count": null,
   "metadata": {},
   "outputs": [],
   "source": [
    "# Now, let's sort this data to get it formatted where each row is a full chart and each entry is a\n",
    "# list of attributes relating to the song at that position\n",
    "\n",
    "sort_og_df = df1.reindex_axis(sorted(df1.columns), axis=1)\n",
    "sort_mod_df = df2.reindex_axis(sorted(df2.columns), axis=1)\n",
    "\n",
    "# Let's examine the dataframe\n",
    "sort_og_df.head()\n"
   ]
  },
  {
   "cell_type": "markdown",
   "metadata": {},
   "source": [
    "We have our song data! Now to extract and clean it up a bit"
   ]
  },
  {
   "cell_type": "code",
   "execution_count": null,
   "metadata": {
    "collapsed": true
   },
   "outputs": [],
   "source": [
    "# Indices:\n",
    "# ChartWeek, SongName, Artist, PeakPos, LastPos, #Weeks"
   ]
  },
  {
   "cell_type": "markdown",
   "metadata": {},
   "source": [
    "We'll want to change the columns to represent a specific attribute of the chart. Currently, Each chart takes up a full row where each columns is the particular rank of a song in that chart. We want each column to read (in order): Week of the chart, name of the song, artist, highest position on the chart, the song's position from the week prior, and the number of weeks on the chart"
   ]
  },
  {
   "cell_type": "code",
   "execution_count": null,
   "metadata": {},
   "outputs": [],
   "source": [
    "# Save the current chart week numbers in a list for restoration later\n",
    "\n",
    "SongWeeks = []\n",
    "for num in range(len(sort_mod_df)):\n",
    "    \n",
    "    SongWeeks.append(num)"
   ]
  },
  {
   "cell_type": "code",
   "execution_count": null,
   "metadata": {},
   "outputs": [],
   "source": [
    "# Next, put all of the song attributes into separate lists to use as columns\n",
    "\n",
    "# Create the lists\n",
    "SongName = []\n",
    "Artist = []\n",
    "PeakPos = []\n",
    "LastPos = []\n",
    "NumWeeks = []\n",
    "\n",
    "# Iterate through the entire dataframe\n",
    "for row, col in sort_mod_df.iterrows():\n",
    "    \n",
    "    # Grab particular entries from each column in the current row\n",
    "    for ent in col:\n",
    "        \n",
    "        SongName.append(ent[0])\n",
    "        Artist.append(ent[1])\n",
    "        PeakPos.append(ent[2])\n",
    "        LastPos.append(ent[3])\n",
    "        NumWeeks.append(ent[4])"
   ]
  },
  {
   "cell_type": "code",
   "execution_count": null,
   "metadata": {
    "collapsed": true
   },
   "outputs": [],
   "source": [
    "# Clear out the copy dataframe to rebuild with new lists\n",
    "\n",
    "for num in range(len(SongWeeks)):\n",
    "    \n",
    "    sort_mod_df.drop(num, inplace=True)"
   ]
  },
  {
   "cell_type": "code",
   "execution_count": null,
   "metadata": {
    "collapsed": true
   },
   "outputs": [],
   "source": [
    "# Now, rebuild the dataframe using the lists as the columns"
   ]
  },
  {
   "cell_type": "markdown",
   "metadata": {},
   "source": [
    "Now that we have our nicely sorted data, let's start analyzing it to see what trends we can find"
   ]
  }
 ],
 "metadata": {
  "kernelspec": {
   "display_name": "Python 3",
   "language": "python",
   "name": "python3"
  },
  "language_info": {
   "codemirror_mode": {
    "name": "ipython",
    "version": 3
   },
   "file_extension": ".py",
   "mimetype": "text/x-python",
   "name": "python",
   "nbconvert_exporter": "python",
   "pygments_lexer": "ipython3",
   "version": "3.6.3"
  }
 },
 "nbformat": 4,
 "nbformat_minor": 2
}
