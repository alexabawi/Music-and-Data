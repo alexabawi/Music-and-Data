{
 "cells": [
  {
   "cell_type": "markdown",
   "metadata": {},
   "source": [
    "Hello everyone!\n",
    "\n",
    "This is the notebook for our final project! I'm committing this file to the repo so that everyone can start from the same spot.\n",
    "\n",
    "Few questions:\n",
    "\n",
    "1) Video call meetups?\n",
    "\n",
    "2) Regarding Git/GitHub, how comfortable are you all with checking out your own branches to work and then pushing the changes to the remote master branch?"
   ]
  }
 ],
 "metadata": {
  "kernelspec": {
   "display_name": "Python 3",
   "language": "python",
   "name": "python3"
  },
  "language_info": {
   "codemirror_mode": {
    "name": "ipython",
    "version": 3
   },
   "file_extension": ".py",
   "mimetype": "text/x-python",
   "name": "python",
   "nbconvert_exporter": "python",
   "pygments_lexer": "ipython3",
   "version": "3.6.3"
  }
 },
 "nbformat": 4,
 "nbformat_minor": 2
}
