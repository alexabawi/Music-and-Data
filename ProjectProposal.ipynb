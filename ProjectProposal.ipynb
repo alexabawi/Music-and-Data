{
 "cells": [
  {
   "cell_type": "markdown",
   "metadata": {},
   "source": [
    "# COGS 108 - Project Proposal"
   ]
  },
  {
   "cell_type": "markdown",
   "metadata": {},
   "source": [
    "## Important\n",
    "\n",
    "- Make sure all group members (3-5 people) are listed in the group members section.\n",
    "- ONE, and only one, member of your group should upload this notebook to TritonED. \n",
    "- Each member of the group will receive the same grade on this assignment. \n",
    "- Keep the file name the same: submit the file 'ProjectProposal.ipynb'"
   ]
  },
  {
   "cell_type": "markdown",
   "metadata": {},
   "source": [
    "## Overview"
   ]
  },
  {
   "cell_type": "markdown",
   "metadata": {},
   "source": [
    "Read the project description and detailed instructions for this assignment in the 'ProjectOutline' document."
   ]
  },
  {
   "cell_type": "markdown",
   "metadata": {},
   "source": [
    "## Group Members: Fill in the Student IDs of each group member here\n",
    "\n",
    "Replace the lines below to list each persons full student ID. Add lines as needed for your group size, and make sure each ID is listed on a separate line. \n",
    "\n",
    "- A08910951\n",
    "- A12211480\n",
    "- A13183599\n",
    "- A13410028\n",
    "- A13460579\n",
    "- A13620210"
   ]
  },
  {
   "cell_type": "markdown",
   "metadata": {},
   "source": [
    "### Research Question\n",
    "\n",
    "What is your research question? (1-2 sentences)"
   ]
  },
  {
   "cell_type": "markdown",
   "metadata": {},
   "source": [
    "How have shifting trends in society shaped which music is popular? How have major societal events impacted the overall \"mood\" of music?"
   ]
  },
  {
   "cell_type": "markdown",
   "metadata": {},
   "source": [
    "### Hypothesis\n",
    "\n",
    "What is your main hypothesis and predictions? (2-3 sentences)"
   ]
  },
  {
   "cell_type": "markdown",
   "metadata": {},
   "source": [
    "The overarching hypothesis guiding this project is that changes in music mood closely correspond to significant events in American history since 1958. Although it is difficult to quantify exact moods between specific events and songs, it is possible to recognize whether a distinct shift occurs between events and contemporary music of the time. Furthermore, it might also be possible to classify these music moods into general themes. We predict that shifts in general themes of moods will closely follow their event counterparts."
   ]
  },
  {
   "cell_type": "markdown",
   "metadata": {},
   "source": [
    "### Dataset(s)\n",
    "\n",
    "What data will you use to answer your question? Describe the dataset(s) in terms of number of observations, what kind of features it contains, etc. You must use at least one dataset containing at least approximately 1000 observations (if your data are smaller but you feel they are sufficient, email Prof. Voytek). You are welcome (and in fact recommended) to find multiple datasets! If you do so, describe each one, and briefly explain how you will combine them together. "
   ]
  },
  {
   "cell_type": "markdown",
   "metadata": {},
   "source": [
    "*Fill in your dataset information here:*\n",
    "\n",
    "- Dataset Name: Billboard Hot 100\n",
    "- Link to the dataset: https://www.billboard.com/charts/hot-100, https://github.com/guoguo12/billboard-charts\n",
    "- Number of observations: 100 songs/week in 52 weeks/year over 60 years = 312,000 songs\n",
    "\n",
    "\n",
    "- Dataset Name: Gracenote's API for music mood classification\n",
    "- Link to the dataset: https://developer.gracenote.com, https://github.com/cweichen/pygn\n",
    "- Number of observations: This will be equal to the number of songs from the Billboard chart that we can match moods to.\n",
    "\n",
    "We will be pulling data from the Billboard Hot 100 and Gracenote's APIs. The Gracenote API will help us to determine the \"mood\" of a song. Using this information, we will track how the mood has changed in popular music across time. We will combine them using the Gracenote dataset to assign to moods to songs from the billboard data chart."
   ]
  },
  {
   "cell_type": "markdown",
   "metadata": {},
   "source": [
    "### Background and Prior Work\n",
    "\n",
    "Why is this a question of interest, what background information led you to your hypothesis, and why is this important?\n",
    "\n",
    "Find some relevant prior work, and reference those sources. Even if you think you have a totally novel question, find the most similar prior work that you can and discuss how it relates to your project. \n",
    "\n",
    "References can be research publications, but they need not be. Blogs, github repositories, company websites, etc., are all viable references if they are relevant to your project.\n",
    "\n",
    "(2-3 paragraphs, including at least 2 references)"
   ]
  },
  {
   "cell_type": "markdown",
   "metadata": {},
   "source": [
    "We found other analyses related to the changes in music over time. Some described the most commonly mentioned words in song lyrics at ten year intervals. Other studies have investigated how the mood of music is used in marketing to affect retail consumers and some articles simply discussed the relationship between music and political movements. However, none of these have explictly analyzed how music mood changes in relation major societal events.\n",
    "\n",
    "References (include links):\n",
    "- 1)The following link is an analysis of song lyrics betwen 1965 and 2015. https://contently.com/strategist/2015/05/07/this-analysis-of-the-last-50-years-of-pop-music-reveals-just-how-much-america-has-changed/\n",
    "\n",
    "- 2)This is a study about music, mood, and marketing. https://www.researchgate.net/publication/270894384_Music_Mood_and_Marketing\n",
    "\n",
    "- 3)This article discusses the relationship between popular music and politics. We believe this will be relevant in regards to the mood of music. \n",
    "http://www.nydailynews.com/entertainment/music-arts/music-tuneful-force-political-change-article-1.381154"
   ]
  },
  {
   "cell_type": "markdown",
   "metadata": {},
   "source": [
    "### Proposed Methods\n",
    "\n",
    "What methods will you use to analyze your data?\n",
    "\n",
    "- How 'clean' is the data? To the extent that it requires cleaning, how will you do so?\n",
    "- How will you analyze the data? Be as specific as you can. Briefly mention any pre-processing steps that are required for your methods (for example, checking data distributions and performing any transformations that may be required). Include a brief outline of how you will apply your chosen method(s). \n",
    "- What do you plan to report? Briefly mention any key visualizations you plan to create, and/or the kind of results you will be able to report that address your question (this could be, for example, the outcome of some statistical test(s), prediction error on a model, a model fit parameter, etc.).\n",
    "- Include a list of packages you expect to use for you project. If you plan to use packages we have not used in class, add a very brief description about them (a few words is sufficient). "
   ]
  },
  {
   "cell_type": "markdown",
   "metadata": {},
   "source": [
    "*Fill in your proposed methods information here:*\n",
    "\n",
    "*Data Cleaning (2-3 sentences)*\n",
    "The data we are pulling is expected to already be fairly clean. The Billboard API can be used to pull requested information and so far we have not yet come across any missing or strange values. The same applies for the Gracenote API. However, we may have to reconfigure some data formats in order to make comparisons between the datasets. \n",
    "\n",
    "*Data Analysis (1-2 paragraphs)*\n",
    "To analyze the data, we will begin by trying to plot the changes of popular music mood throughout time. We will use the Billboard API to determine a song's popularity level and the Gracenote API to assign \"moods\" to these different songs. We will then be able to see what the average mood was of songs in the popular charts during specific times. We can then determine if these changes in popular song mood correlate with any major events in society.\n",
    "\n",
    "*What to report (2-3 sentences)*\n",
    "Ideally, we would like to create a graph in which spikes of certain musical shifts can be seen relative to a date. If neccessary, we could attempt to incorporate a third data set with timelines for things like wars, elections, etc. We would then want to run a statistical correlation test to see if there is any. If so, we could try to create a prediction model.\n",
    "\n",
    "Packages we plan to use:\n",
    "- a) numpy\n",
    "- b) pandas\n",
    "- c) scipy"
   ]
  },
  {
   "cell_type": "markdown",
   "metadata": {},
   "source": [
    "### Ethics and Privacy\n",
    "\n",
    "Briefly acknowledge and address any potential issues of ethics and privacy for the proposed project. In particular:\n",
    "- Do you have permission to use this data, for this purpose?\n",
    "- Are there privacy concerns regarding your datasets that you need to deal with, and/or terms of use that you need to comply with?\n",
    "- Are there potential biases in your dataset(s), in terms of who it composes, and how it was collected, that may be problematic in terms of it allowing for equitable analysis? (For example, does your data exclude particular populations, or is it likely to reflect particular human biases in a way that could be a problem?) \n",
    "- Are there any other issues related to your topic area, data, and/or analyses that are potentially problematic in terms of data privacy and equitable impact?\n",
    "- How will you handle any issues you identify?\n",
    "\n",
    "Both the Billboard and Gracenote APIs are publicly available and so far, do not seem to contain any information that could violate policies of personally identifiable information. However, biases may arise from these APIs due to the relatively unknown nature of their own algorithms. For example, it is difficult to figure out exactly how Billboard measures sales and subsequently ranks artists. Also, something such as the mood of a song which the Gracenote API claims to be able to classify, can be a relatively subjective thing to measure. However, as we progress we will take these issues into account, attempt to learn more, and try to adjust our strategy accordingly. "
   ]
  },
  {
   "cell_type": "markdown",
   "metadata": {},
   "source": [
    "### Discussion\n",
    "\n",
    "Discuss your project, looking forward to what your results might mean, how they fit it in with what is already known, and what problems you may encounter. \n",
    "\n",
    "In particular:\n",
    "- If your analyses and hypotheses are correct, what will be the contribution of this project to the topic domain? \n",
    "- Alternatively, what will you do if you methods don't work and/or your hypotheses are wrong? \n",
    "- What are the potential pitfalls and potential confounds of your data and/or methods that may cause problems, and/or influence your interpretations?\n",
    "\n",
    "(2-3 paragraphs)"
   ]
  },
  {
   "cell_type": "markdown",
   "metadata": {},
   "source": [
    "Our contribution to the topic domain will be dependent on what our final results correlate with. For example, if we see that mood shifts occur following specific electoral trends then we could predict the same to possibly occur in future events. What we are beginning with is a simple first step that we believe could be expanded on with more time and resources. So even if our hypotheses is wrong about the overall mood, other things like lyrics, artists and genre could be analyzed to test the same thing more accurately and from different perspectives. We will also be investigating how other factors such as digitial downloads and streaming have affected popular music to account for any confounding information."
   ]
  }
 ],
 "metadata": {
  "kernelspec": {
   "display_name": "Python 3",
   "language": "python",
   "name": "python3"
  },
  "language_info": {
   "codemirror_mode": {
    "name": "ipython",
    "version": 3
   },
   "file_extension": ".py",
   "mimetype": "text/x-python",
   "name": "python",
   "nbconvert_exporter": "python",
   "pygments_lexer": "ipython3",
   "version": "3.6.3"
  }
 },
 "nbformat": 4,
 "nbformat_minor": 2
}
